{
 "cells": [
  {
   "cell_type": "markdown",
   "id": "08a0e7a2",
   "metadata": {},
   "source": [
    "### Create a function in python to read the text file and replace specific content of the file.\n",
    "* File name : example.txt\n",
    "* Origin file content : This is a placement assignment\n",
    "* Replace string : **placement** should be replaced by **screening**.\n",
    "* Replaced file content : This is a screening assignment\n",
    "\n"
   ]
  },
  {
   "cell_type": "code",
   "execution_count": 1,
   "id": "20e830d8",
   "metadata": {},
   "outputs": [
    {
     "name": "stdout",
     "output_type": "stream",
     "text": [
      "This is a placement assignment\n"
     ]
    }
   ],
   "source": [
    "# Before Applying the stringchanger function\n",
    "with open('example.txt','r') as f:\n",
    "    print(f.read())"
   ]
  },
  {
   "cell_type": "code",
   "execution_count": 2,
   "id": "11b5d7bc",
   "metadata": {},
   "outputs": [],
   "source": [
    "def stringchanger(new_string):\n",
    "    \"\"\"\n",
    "    This function will change the placement with the other string you want.\n",
    "    It will take one argument as a new_string\n",
    "    new_string : any string you want.\n",
    "    \"\"\"\n",
    "    import re\n",
    "    with open('example.txt', 'r+') as f:\n",
    "        text = f.read()\n",
    "        text = re.sub('placement', new_string, text)\n",
    "        f.seek(0)\n",
    "        f.write(text)\n",
    "        f.truncate()"
   ]
  },
  {
   "cell_type": "code",
   "execution_count": 3,
   "id": "10e0018f",
   "metadata": {},
   "outputs": [],
   "source": [
    "stringchanger('screening')"
   ]
  },
  {
   "cell_type": "code",
   "execution_count": 4,
   "id": "86e77026",
   "metadata": {},
   "outputs": [
    {
     "name": "stdout",
     "output_type": "stream",
     "text": [
      "This is a screening assignment\n"
     ]
    }
   ],
   "source": [
    "# After Applying the stringchanger function\n",
    "with open('example.txt','r') as f:\n",
    "    print(f.read())"
   ]
  },
  {
   "cell_type": "markdown",
   "id": "bd5faa5c",
   "metadata": {},
   "source": [
    "### Demonstrate use of abstract class, multiple inheritance and decorator in python using examples"
   ]
  },
  {
   "cell_type": "markdown",
   "id": "1cf05cc1",
   "metadata": {},
   "source": [
    "#### Abstract Class\n",
    "If class contains any abstract method so that class called as abstract class, and an abstract method is that method which is declared but contains no implemantation so that kind of methods known as Abstract method, and Python by default doesn't support abstract classes, for using the abstract classes we need to use abs module in python.\n",
    "\n",
    "##### Use of Abstract Class\n",
    "Abstract classes provide a kind of a blue print for other classes. Abstract base classes cannot be instantiated.\n",
    "\n",
    "#### Multiple Inheritance\n",
    "Multiple inheritance is a feature of object-oriented programming in which a object or class can inherit characteristics and features from more than one parent class.\n",
    "\n",
    "##### Use of Multiple Inheritance\n",
    "With the help of multipleinheritance we can inherit characteristics from more than one parent class.\n",
    "\n",
    "#### Decorator\n",
    "The decorator pattern is a software design pattern that allows us to dynamically add functionality to classes without creating subclasses and affecting the behavior of other objects of the same class.\n",
    "\n",
    "##### Use of Decorator\n",
    "It allows programmers to modify the behaviour of function or class.\n",
    "\n"
   ]
  },
  {
   "cell_type": "code",
   "execution_count": 5,
   "id": "3e2ab372",
   "metadata": {},
   "outputs": [],
   "source": [
    "from abc import ABC, abstractclassmethod\n",
    "\n",
    "class Shape(ABC):             # this is the abstract class, any class which will use this abstact class should have the printarea method.\n",
    "    @abstractclassmethod      # this @abstracclassmethod is a decorator which declares the 'printarea' method for all other class who will use this abstract class in future.\n",
    "    def printarea(self):\n",
    "        pass\n",
    "    \n",
    "class Reactangle(Shape):\n",
    "    def __init__(self, side):\n",
    "        self.side_length = side  # this side work as a length for reactangle\n",
    "        self.breath = 4\n",
    "    \n",
    "    def printarea(self):  # this print area method is here because it uses the Shape abstract class.\n",
    "        return f'Area of Reactangle: {self.side_length * self.breath}'\n",
    "    \n",
    "class Square(Reactangle, Shape):  # This is multiple inheritance, the square class inherits the properties of Shape class and Rectangle class.\n",
    "    def printarea(self):          # where it will use the argument of Rectangle class and gives the Area of Square.\n",
    "        return f'Area of Sqaure: {self.side_length * self.side_length}' "
   ]
  },
  {
   "cell_type": "code",
   "execution_count": 6,
   "id": "5c2d99d1",
   "metadata": {},
   "outputs": [
    {
     "data": {
      "text/plain": [
       "'Area of Sqaure: 16'"
      ]
     },
     "execution_count": 6,
     "metadata": {},
     "output_type": "execute_result"
    }
   ],
   "source": [
    "sqr = Square(4)\n",
    "sqr.printarea()"
   ]
  },
  {
   "cell_type": "code",
   "execution_count": 7,
   "id": "6da42856",
   "metadata": {},
   "outputs": [
    {
     "data": {
      "text/plain": [
       "'Area of Reactangle: 24'"
      ]
     },
     "execution_count": 7,
     "metadata": {},
     "output_type": "execute_result"
    }
   ],
   "source": [
    "rect = Reactangle(6)\n",
    "rect.printarea()"
   ]
  },
  {
   "cell_type": "code",
   "execution_count": null,
   "id": "55bda47d",
   "metadata": {},
   "outputs": [],
   "source": []
  }
 ],
 "metadata": {
  "kernelspec": {
   "display_name": "Python 3 (ipykernel)",
   "language": "python",
   "name": "python3"
  },
  "language_info": {
   "codemirror_mode": {
    "name": "ipython",
    "version": 3
   },
   "file_extension": ".py",
   "mimetype": "text/x-python",
   "name": "python",
   "nbconvert_exporter": "python",
   "pygments_lexer": "ipython3",
   "version": "3.9.7"
  }
 },
 "nbformat": 4,
 "nbformat_minor": 5
}
